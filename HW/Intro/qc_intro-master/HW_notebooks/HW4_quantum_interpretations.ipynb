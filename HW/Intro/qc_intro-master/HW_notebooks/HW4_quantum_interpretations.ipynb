{
 "cells": [
  {
   "cell_type": "markdown",
   "metadata": {},
   "source": [
    "# Interpreting Quantum Mechanics\n",
    "\n",
    "We've seen several examples of the \"spooky action at a distance\" so characteristic to quantum mechanics. In the early 20th century, as physicists were beginning to realize all the physical consequences of the quantum formalism they were developing, many were very reluctant to accept when they were theorizing.\n",
    "\n",
    "Albert Einstein, who won a Nobel prize in 1921 for this work in quantum mechanics, was famously skeptical of some of the philosophical implications of quantum mechanics. At the time, many of the greatest physicists in history were having passionate debates, not just of the mechanics itself, but also how we should interpret this new formalism. Einstein for one, was not particularly happy with the apparent non-determinism we observe in quantum mechanics. \n",
    "\n",
    "All of classical mechanics (and even relativistic physics) is fully deterministic, so it's only in the quantum world when things get more complicated. Einstein argued \"god does not play dice,\" that only quantum mechanics looks non-deterministic because we don't have the full picture - some piece of the puzzle is missing, and if we had it, everything would be nice and deterministic again. We might think of that missing, unknown piece of information as a hidden state of our system, and it's only because we don't know that hidden state that we think quantum mechanics is non-deterministic.\n",
    "\n",
    "An alternative to this \"hidden state\" theory, was the Copenhagen interpretation proposed by Niels Bohr and Werner Heisenberg among others. Simply put, the Copenhagen interpretation proposes that the properties of a quantum system are not necessarily well defined in general. Instead, it is the act of measuring the system that causes the state it to \"collapse\" into having whatever property that was measured. This \"collapse\" can essentially be treated as irreversible and non-deterministic. As a result, the Copenhagen interpretation in many ways diametrically opposes hidden state theories.\n",
    "\n",
    "So far we have focused on the Copenhagen interpretation, which is traditionally the most popular interpretation of quantum mechanics. However, as good scientists we can't just blindly trust the ramblings of some old professors almost a century ago. Now we will discuss the famous EPR paradox and Bell's theorem, a brilliant experiment designed to test the hidden state theory."
   ]
  },
  {
   "cell_type": "markdown",
   "metadata": {},
   "source": [
    "## EPR Paradox\n",
    "\n",
    "The Einstein–Podolsky–Rosen paradox was developed by Albert Einstein, Boris Podolsky, and Nathan Rosen to challenge the Copenhagen interpretation in favor of a hidden state theory.\n",
    "\n",
    "The original presentation of the EPR paradox uses observables like position and momentum, which were already shown by Heisenberg not to commute, however here we'll discuss a simplified and more common rendition of the paradox using spin. Remember that spin (of an electron, for example) can be along a certain axis, and that the spin operators along different axes don't commute. This means the spin of an electron can only be known along one axis at a time.\n",
    "\n",
    "Suppose we have a source which creates an electron-positron pair. The Standard Model (contemporary physics) tells us when an electron-positron pair is produced the spin of the electron will always be exactly opposite to that of the positron, no matter what direction the spin actually has. The electron is sent to Alice's lab and the positron to Bob's. Let's imagine Alice could either measure the spin along the X or Z axis, either of which have two possible outcomes: 1 or -1. From the Standard Model, we know that if she were to measure the X axis, and get an outcome of 1 then if Bob measures the spin of his positron along X he must measure -1 (and vice versa). However, if Alice measures Z and Bob measures X, then Bob sometimes gets 1 and sometimes -1 in an unpredictable manner. Furthermore, this observation doesn't change if Alice and Bob make their measurements at the exact same time. This suggests that Alice's choice of axis is somehow transmitted instantaneously from her electron to Bob's positron, which may be arbitrarily far away. However, special relativity, and by extension causality itself, does not allow any information to travel faster than the unflinchingly finite speed of light - sending information instantaneously is not possible!\n",
    "\n",
    "The solution to this paradox presented by EPR argues quantum mechanics as we know it must not be complete. They suggest since Bob's positron cannot get the information from Alice's measurement instantaneously, instead both Alice and Bob's outcomes are dependent on some underlying process, or hidden variable, not treated by the current formalism of quantum mechanics. If we possessed knowledge of this hidden variable then Bob's outcome of measuring X after Alice measured Z would no longer be unpredictable."
   ]
  },
  {
   "cell_type": "markdown",
   "metadata": {},
   "source": [
    "## Bell's Inequality\n",
    "\n",
    "Starting with some ideas from the de Broglie–Bohm theory (an alternative to the Copenhagen interpretation), John Stewart Bell developed Bell's theorem in 1964, which suggested a relatively simple statistical experiment to test hidden variable theory. Since it's conception, experimental physicists have tried to empirically verify Bell's theorem, however reliably producing and measuring entangled particles (in this case photons) is easier said than done. In 2015, several experiments finally eliminated all major loopholes to the experimental procedure and successfully violated Bell's inequality, as predicted by quantum mechanics.\n",
    "\n",
    "Here we will simulate several quantum circuits to violate the CHSH inequality, which is an equivalent alternative to Bell's original inequality that is easier to simulate. The CHSH inequality, just like Bell's inequality, is a statistical law that follows from several (seemingly) reasonable assumptions such as locality and realism. Locality requires that an event at one point in space and time cannot affect an event at another point in space at the same time, while realism posits observables have some definite outcome independent of measurement. Quantum mechanics violating the CHSH inequality, or equivalently Bell's inequality, means either locality or realism (or both) do not apply in a quantum world.\n",
    "\n",
    "Just as in the EPR paradox, we begin with a source that can produce pairs of particles that have interacted in some way. In quantum computing terms, that means a pair of qubits that are entangled. For each pair, we'll give Alice one of the qubits, and Bob the other one. Then we'll have two sets of two unique observables called $\\mathbf{A}$/$\\mathbf{A'}$ that Alice can measure, and $\\mathbf{B}$/$\\mathbf{B'}$ for Bob. We'll have to be a little careful how we measure our qubits, because remember that in quantum computing the outcome of any measurement is always either 0 or 1. Alice and Bob coordinate beforehand so they split the total number of qubit pairs they have shared into four groups, and use a different possible combination of observables for each group ($\\mathbf{A}\\mathbf{B}$, $\\mathbf{A}\\mathbf{B'}$, $\\mathbf{A'}\\mathbf{B}$, and $\\mathbf{A'}\\mathbf{B'}$). The outcome of each measurement is recorded as +1 if you get 0 and -1 if you get 1, so the outcome of measuring an entangled pair is interpreted as +1 if both Alice an Bob get the same value (they measure 00 or 11), and -1 if they get different values (01 or 10). Finally these outcomes are averaged for each combination of observables are combined to estimate the total correlation between qubits in the following way (the derivation of which follows directly from locality and realism):\n",
    "\n",
    "$$ C = \\langle \\mathbf{AB} \\rangle - \\langle \\mathbf{AB'} \\rangle + \\langle \\mathbf{A'B} \\rangle + \\langle \\mathbf{A'B'} \\rangle$$\n",
    "\n",
    "where $\\langle \\mathbf{M} \\rangle$ refers to the average outcome of measuring the combination $\\mathbf{M}$.\n",
    "\n",
    "Let's first think about what kind of result we would expect assuming both locality and realism were true, which is what classical mechanics (and our intuition) would suggest. Measuring the outcome of $\\mathbf{A}$ (or $\\mathbf{A'}$) should not affect the outcome of $\\mathbf{B}$ (or $\\mathbf{B'}$), consequently we can use the linearity of expectation to group terms leaving:\n",
    "\n",
    "$$ C_{\\mathrm{classical}} = \\langle \\mathbf{A} (\\mathbf{B} - \\mathbf{B'}) \\rangle + \\langle \\mathbf{A'} (\\mathbf{B} + \\mathbf{B'}) \\rangle $$\n",
    "\n",
    "The outcomes of measuring $\\mathbf{B}$ and $\\mathbf{B'}$ must either be different (one is +1, one is -1) or the same (both are +1 or -1). If there is no correlation between Alice's and Bob's measurements the average outcomes should be close to zero, so $|C_{\\mathrm{classical}}| \\approx 0$. If there is some correlation, the largest we can imagine is if the outcomes given a certain measurement of Alice are always either the same or different but always in the same way. This would mean one of the two terms approaches 2 while the other approaches 0. In any case, $|C_{\\mathrm{classical}}|$ cannot exceed a value of 2, because that would mean either the outcomes of $\\mathbf{B}$ and $\\mathbf{B'}$ are not defined before measurement (breaking realism), or the outcomes depend on whether $\\mathbf{A}$ or $\\mathbf{A'}$ is measured, which means the information of which measurement Alice used would have to be transmitted to Bob's qubit instantaneously (breaking locality)."
   ]
  },
  {
   "cell_type": "code",
   "execution_count": null,
   "metadata": {},
   "outputs": [],
   "source": [
    "# import numpy and qiskit"
   ]
  },
  {
   "cell_type": "markdown",
   "metadata": {},
   "source": [
    "### Problem 1: Violating the CHSH Inequality\n",
    "\n",
    "In our experimental design, we'll try to violate the CHSH inequality as much as is allowed by quantum mechanics. This means we'll start with a maximally entangled state - a cat state $|\\psi \\rangle = \\frac{1}{\\sqrt 2}(|00\\rangle + |11\\rangle)$, and that we have to be careful about what measurements to choose. It turns out choosing the measurements:\n",
    "\n",
    "$$ \\mathbf{A} = \\mathbf{X} = \\begin{pmatrix}0 & 1 \\\\ \n",
    "                                            1 & 0\\end{pmatrix} $$\n",
    "\n",
    "$$ \\mathbf{A'} = \\mathbf{Z} = \\begin{pmatrix}1 & 0 \\\\ \n",
    "                                            0 & -1\\end{pmatrix} $$\n",
    "                                            \n",
    "$$ \\mathbf{B} = \\mathbf{W} = \\frac{1}{\\sqrt{2}}(\\mathbf{Z} + \\mathbf{X}) $$\n",
    "\n",
    "$$ \\mathbf{B'} = \\mathbf{V} = \\frac{1}{\\sqrt{2}}(\\mathbf{Z} - \\mathbf{X}) $$\n",
    "\n",
    "will maximize the expected violation. To simulate measuring all these different observables using just the computational basis ($\\mathbf{Z}$), we do a some linear algebra to find the right transformation. For this purpose, we might imagine there to be a measurement operator $\\mathbf{M_B}$ for basis $\\mathbf{B}$. Now we can write each of our measurement \"operators\" in terms of $\\mathbf{M_Z}$:\n",
    "\n",
    "$$ \\mathbf{M_Z} = \\mathbf{M_Z} $$\n",
    "\n",
    "$$ \\mathbf{M_X} = \\mathbf{M_Z} \\mathbf{H} $$\n",
    "\n",
    "$$ \\mathbf{M_W} = \\mathbf{M_Z} \\mathbf{H} \\mathbf{T} \\mathbf{H} \\mathbf{S} $$\n",
    "\n",
    "$$ \\mathbf{M_V} = \\mathbf{M_Z} \\mathbf{H} \\mathbf{T^\\dagger} \\mathbf{H} \\mathbf{S} $$\n",
    "\n",
    "where $\\mathbf{H}$ is the hadamard, $\\mathbf{T}$ is the T gate, and $\\mathbf{S}$ is the S gate.\n",
    "\n",
    "With this setup, you can compute $|C_{\\mathrm{quantum}}|$ using the following equation:\n",
    "\n",
    "$$ C_{\\mathrm{quantum}} = \\langle \\mathbf{XW} \\rangle - \\langle \\mathbf{XV} \\rangle + \\langle \\mathbf{ZW} \\rangle + \\langle \\mathbf{ZV} \\rangle$$\n",
    "\n",
    "where $\\langle \\mathbf{M_1 M_2} \\rangle$ refers to the average outcome of measuring observable $\\mathbf{M_1}$ on the first qubit and $\\mathbf{M_2}$ on the second qubit.\n",
    "\n",
    "\n",
    "\n",
    "Below there is some code that will create a quantum circuit that will produce our initial entangled cat state $|\\psi \\rangle$ (see `create_cat`), and code that will, given a `QuantumCircuit` `circ`, and two qubits (from a `QuantumRegister`) `qbit0` and `qbit1`, transform the state to measure different combinations of observables (including `XW`, `XV`, `ZW`, and `ZV`). Finally, there's also a utility function to let you measure your qubits and store them in a classical register (see `measure_and_save`).\n",
    "\n",
    "Your job is to (1) build the circuits necessary to compute each of the averages $\\langle \\mathbf{AB} \\rangle$, $\\langle \\mathbf{AB'} \\rangle$, $\\langle \\mathbf{A'B} \\rangle$, and $\\langle \\mathbf{A'B'} \\rangle$, (2) simulate each of the circuits using the `qasm_simulator` simulator with 1000 shots (see `execute` function) per circuit, and (3) to compute $|C_{\\mathrm{quantum}}|$ as predicted by quantum mechanics.\n",
    "\n",
    "Hint 1: If you get stuck, I suggest working through the circuit on paper, and simulating your circuits using the `statevector_simulator` and comparing the state vector your circuit produces to the one you would expect.\n",
    "\n",
    "Hint 2: Problem the hardest part of this problem is not building or simulating the circuits, but interpreting and analyzing the results to compute $|C_{\\mathrm{quantum}}|$. When building the circuits you should not have to add any gates to circuits yourself (instead use the provided `XW`, `XV`, `ZW`, and `ZV` functions)."
   ]
  },
  {
   "cell_type": "code",
   "execution_count": null,
   "metadata": {},
   "outputs": [],
   "source": [
    "def create_cat():\n",
    "    q = QuantumRegister(2, 'q') # specify the number of qubits in the register and a name\n",
    "\n",
    "    circ = QuantumCircuit(q)\n",
    "\n",
    "    circ.h(q[0])\n",
    "    circ.cx(q[0], q[1])\n",
    "    return circ, q\n",
    "\n",
    "def example(circ, qbit0, qbit1):\n",
    "    circ.ch(qbit1, qbit0)\n",
    "\n",
    "def XW(circ, qbit0, qbit1):\n",
    "    # qubit 0: X measurement -> Z measurement\n",
    "    circ.h(qbit0)\n",
    "    \n",
    "    # qubit 1: W measurement -> Z measurement\n",
    "    circ.s(qbit1)\n",
    "    circ.h(qbit1)\n",
    "    circ.t(qbit1)\n",
    "    circ.h(qbit1)\n",
    "\n",
    "def XV(circ, qbit0, qbit1):\n",
    "    # qubit 0: X measurement -> Z measurement\n",
    "    circ.h(qreg[0])\n",
    "    \n",
    "    # qubit 1: V measurement -> Z measurement\n",
    "    circ.s(qbit1)\n",
    "    circ.h(qbit1)\n",
    "    circ.tdg(qbit1)\n",
    "    circ.h(qbit1)\n",
    "    \n",
    "def ZW(circ, qbit0, qbit1):\n",
    "    # qubit 0: Z measurement (default)\n",
    "    \n",
    "    # qubit 1: W measurement -> Z measurement\n",
    "    circ.s(qbit1)\n",
    "    circ.h(qbit1)\n",
    "    circ.t(qbit1)\n",
    "    circ.h(qbit1)\n",
    "    \n",
    "def ZV(circ, qbit0, qbit1):\n",
    "    # qubit 0: Z measurement (default)\n",
    "    \n",
    "    # qubit 1: V measurement -> Z measurement\n",
    "    circ.s(qbit1)\n",
    "    circ.h(qbit1)\n",
    "    circ.tdg(qbit1)\n",
    "    circ.h(qbit1)\n",
    "    \n",
    "def measure_and_save(circ, qreg, name='c'):\n",
    "    c = ClassicalRegister(len(qreg), name)\n",
    "    circ.add_register(c)\n",
    "    circ.measure(qreg, c)"
   ]
  },
  {
   "cell_type": "markdown",
   "metadata": {},
   "source": [
    "Hint 3: An example of building and simulating a circuit is shown below (the results of which unfortunately isn't useful for this experiment)"
   ]
  },
  {
   "cell_type": "code",
   "execution_count": null,
   "metadata": {},
   "outputs": [],
   "source": [
    "circ, qreg = create_cat()\n",
    "qbit0, qbit1 = qreg[0], qreg[1]\n",
    "example(circ, qbit0, qbit1)\n",
    "measure_and_save(circ, qreg)\n",
    "backend = BasicAer.get_backend('qasm_simulator')\n",
    "counts = execute(circ, backend, shots=1000).result().get_counts()\n",
    "print('Result:', counts)\n",
    "circ.draw()"
   ]
  },
  {
   "cell_type": "markdown",
   "metadata": {},
   "source": [
    "[Your answer here]"
   ]
  },
  {
   "cell_type": "markdown",
   "metadata": {},
   "source": [
    "## Challenging Local Realism\n",
    "\n",
    "As you should see, $|C_{\\mathrm{quantum}}| \\approx 2\\sqrt2$, since the ideal experiment would produce $\\langle \\mathbf{XW} \\rangle = \\frac{1}{\\sqrt2}$, $\\langle \\mathbf{XV} \\rangle = -\\frac{1}{\\sqrt2}$, $\\langle \\mathbf{ZW} \\rangle = \\frac{1}{\\sqrt2}$, and $\\langle \\mathbf{ZV} \\rangle = \\frac{1}{\\sqrt2}$.\n",
    "\n",
    "What does this mean for locality and realism? If locality and realism are both to be true, $|C| \\leq 2$.\n",
    "\n",
    "Suppose the outcome of our measurements for our pair of entangled qubits was somehow decided in advance, perhaps by some hidden variables or details related to the process that entangled them in the first place. Bell's theorem proves there is no way to set the outcomes in such a way that $|C|>2$, yet we observed $|C|\\approx 2\\sqrt2$. (Provided we can trust our simulator - if you don't, you can actually try running this experiment on a real quantum computer.) This shows hidden variable theories are not powerful enough to reproduce our observations - so what is going on?\n",
    "\n",
    "Coming from the perspective of the Copenhagen interpretation, we can make sense of the CHSH inequality violation by being more careful about what we mean by locality and realism. First of all, Bell's theorem leaves us little choice but to conclude that somehow Alice measuring her qubit instantaneously affects Bob's qubit. That might sound like information is traveling faster than the speed of light, which would essentially mean we have to throw out all of special relativity. \n",
    "\n",
    "Thankfully, there is a rather elegant solution which allows us to keep weaker form of locality that is sufficient to explain Bell's theorem without abandoning special relativity and information theory. The trick is eventhough Bob's qubit is affected the instant Alice measures her qubit, Bob can't make any meaningful use of this change in his qubit. That is to say, Bob can't know that he violated Bell's inequality until Alice tells him what kind of measurement she used. To further illustrate this subtlety, imagine a simpler experiment where Alice and Bob each have one of the qubits that are entangled in a cat state. Now suppose Alice and Bob both measure their qubits in the regular computational basis. The instant Alice measures her qubit she will know with 100% certainty the outcome for Bob if he measures his qubit, however, there's no way for her to communicate her knowledge faster than light speed to Bob. So in some sense, eventhough the state of Bob's qubit changes instantaneously, Bob can't know how it changed, or even that it changed, until after Alice has told him, which can't happen at any rate faster than light speed. \n",
    "\n",
    "This perspective also forces us to relax our notion of realism. While both Bob and Alice can be certain of the outcome of their measurements after they are done (provided there are no further interactions with the qubits), it may, and in many cases is, impossible for either Alice or Bob to be able to predict the outcomes of their measurements before they have been completed. As the Copenhagen interpretation argues, in general the observables of a quantum system need not be defined at all up to the point at which they are measured and they \"collapse\" into having a certain property.\n",
    "\n",
    "Neither the Copenhagen interpretation nor a hidden state theory, nor any other interpretation for that matter, provides a fully satisfying explanation for us to interpret the results of quantum experiments such as violating the CHSH inequality above. Perhaps an even more popular approach to answering these sorts of questions today is the instrumentalist philsophy which can be summed up with \"Shut up and calculate!\""
   ]
  }
 ],
 "metadata": {
  "kernelspec": {
   "display_name": "Python 3",
   "language": "python",
   "name": "python3"
  },
  "language_info": {
   "codemirror_mode": {
    "name": "ipython",
    "version": 3
   },
   "file_extension": ".py",
   "mimetype": "text/x-python",
   "name": "python",
   "nbconvert_exporter": "python",
   "pygments_lexer": "ipython3",
   "version": "3.7.6"
  }
 },
 "nbformat": 4,
 "nbformat_minor": 2
}
