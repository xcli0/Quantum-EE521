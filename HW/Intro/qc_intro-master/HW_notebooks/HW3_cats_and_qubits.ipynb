{
 "cells": [
  {
   "cell_type": "markdown",
   "metadata": {},
   "source": [
    "# Cats and Qubits\n",
    "\n",
    "Quantum Mechanics has fundamentally changed the way we study natural phenomena on microscopic scales. However, we've only just started to realize how quantum mechanics can also revolutionize information processing and computer science. Making use of the powerful albeit sometimes unintuitive quantum phenomena has created the new and promising field of quantum computing.\n",
    "\n",
    "Classical information processing begins with a bit, and analogously quantum computing begins with a qubit. Information is measured in bits, where each bit will only ever be in one of two possible states (commonly referred to as \"0\" and \"1\"). A qubit is a two state quantum-system, so it's quite similar in that they only ever hold one bit of information, but the superposition principle in quantum mechanics allows a qubit to occupy any one of the continuum of states in hilbert space - sounds like a contradiction, huh?\n",
    "\n",
    "Remember that eventhough a quantum system can occupy any state in hilbert space, the only way we can get information from a qubit is by measuring it, at which point the state will collapse to one of the two possible basis states. For simplicity, let's choose a measurement operator which communtes with the hamiltonian of our system, so we don't have to worry about the time dependence of our system. Now we can define the two eigenstates of our measurement operator to be $|0\\rangle$ and $|1\\rangle$ which forms our \"computational basis.\" (In practice, the measurement operator that forms our computational basis usually is the hamiltonian.)\n",
    "\n",
    "So in general, the state of our qubit $|\\psi \\rangle$ can be written as:\n",
    "\n",
    "$$ |\\psi \\rangle = \\alpha |0\\rangle + \\beta |1\\rangle $$\n",
    "\n",
    "for any $\\alpha$ and $\\beta$ such that $|\\alpha|^2 + |\\beta|^2 = 1$."
   ]
  },
  {
   "cell_type": "markdown",
   "metadata": {},
   "source": [
    "## Quantum Circuits\n",
    "\n",
    "Just as classical bits are processed in circuits with logic gates, qubits are processed in quantum circuits using quantum logic gates.\n",
    "\n",
    "A very convenient framework for building, and simulating quantum circuits using python is `qiskit`, which we'll use now."
   ]
  },
  {
   "cell_type": "code",
   "execution_count": null,
   "metadata": {},
   "outputs": [],
   "source": [
    "import numpy as np\n",
    "%matplotlib notebook\n",
    "import matplotlib.pyplot as plt\n",
    "from qiskit import QuantumCircuit, ClassicalRegister, QuantumRegister\n",
    "from qiskit import BasicAer # for simulating circuits\n",
    "from qiskit.tools.visualization import plot_histogram\n",
    "from qiskit import execute"
   ]
  },
  {
   "cell_type": "markdown",
   "metadata": {},
   "source": [
    "In `qiskit`, you can create either `QuantumRegister`s or `ClassicalRegister`s to hold quantum or classical information respectively. These registers can be added to your quantum circuit to process the information therein.\n",
    "\n",
    "For details on the API, execute a cell with `QuantumRegister?` or `QuantumCircuit?`. For now, let's create a quantum circuit using 1 qubit"
   ]
  },
  {
   "cell_type": "code",
   "execution_count": null,
   "metadata": {},
   "outputs": [],
   "source": [
    "q = QuantumRegister(1, 'q') # specify the number of qubits in the register and a name\n",
    "\n",
    "circ = QuantumCircuit(q)"
   ]
  },
  {
   "cell_type": "markdown",
   "metadata": {},
   "source": [
    "Your circuits can be visualized using the `draw` function."
   ]
  },
  {
   "cell_type": "code",
   "execution_count": null,
   "metadata": {},
   "outputs": [],
   "source": [
    "circ.draw()"
   ]
  },
  {
   "cell_type": "markdown",
   "metadata": {},
   "source": [
    "So far our circuit doesn't look very exciting, so let's add a hadamard gate. Remember a hadamard gate rotates our state from the Z (computational) basis to the X basis."
   ]
  },
  {
   "cell_type": "code",
   "execution_count": null,
   "metadata": {},
   "outputs": [],
   "source": [
    "circ.h(q[0])\n",
    "circ.draw()"
   ]
  },
  {
   "cell_type": "markdown",
   "metadata": {},
   "source": [
    "Now we can simulate our circuit to do some basic quantum computing. First, you have to choose what kind of backend to use, we'll using two different backends called `statevector_simulator` to compute the final state of your system, and the `qasm_simulator` to simulate a quantum computer running your circuit (which means you have to measure your qubits at the end). However there are also some backends that will run your circuit on a real quantum computer (for more information check out IMBQ Experience).\n",
    "\n",
    "After choosing your backend, you can create a job using the `execute` function.\n",
    "You can monitor your job using the `status` function (although the jobs should complete quickly if you use simulators)."
   ]
  },
  {
   "cell_type": "code",
   "execution_count": null,
   "metadata": {},
   "outputs": [],
   "source": [
    "backend = BasicAer.get_backend('statevector_simulator')\n",
    "job = execute(circ, backend)"
   ]
  },
  {
   "cell_type": "code",
   "execution_count": null,
   "metadata": {},
   "outputs": [],
   "source": [
    "job.status()"
   ]
  },
  {
   "cell_type": "markdown",
   "metadata": {},
   "source": [
    "Once your job is done, you can collect the results using the `result` function. In our case, since we used the `statevector_simulator` backend, we can get the final statevector using the `get_statevector` function, which also allows us to specify the desired precision."
   ]
  },
  {
   "cell_type": "code",
   "execution_count": null,
   "metadata": {},
   "outputs": [],
   "source": [
    "result = job.result()\n",
    "outputstate = result.get_statevector(circ, decimals=3)\n",
    "print(outputstate)"
   ]
  },
  {
   "cell_type": "markdown",
   "metadata": {},
   "source": [
    "Note that the statevector contains the amplitudes for each possible outcome in the computation basis which are in general complex.\n",
    "\n",
    "Given statevector $|\\psi \\rangle = \\begin{pmatrix}\\alpha \\\\ \\beta\\end{pmatrix}$, the probability of measuring $0$ is $\\mathrm{Prob}(0) = |\\alpha|^2$."
   ]
  },
  {
   "cell_type": "code",
   "execution_count": null,
   "metadata": {},
   "outputs": [],
   "source": [
    "probs = np.abs(outputstate)**2\n",
    "print(probs)"
   ]
  },
  {
   "cell_type": "markdown",
   "metadata": {},
   "source": [
    "Note that the probabilities don't add up to 1, as they should for a properly normalized state. To fix this, you can increase the precision (using the `decimals` argument) of the statevector we got from the result. Try increasing the precision to 8 decimals and printing out the improved estimate."
   ]
  },
  {
   "cell_type": "markdown",
   "metadata": {},
   "source": [
    "## Cat States\n",
    "\n",
    "Named after Schrödinger's (possibly) misfortunate cat, a cat state is an equal superposition with only two possible, very opposite outcomes.\n",
    "\n",
    "$$ |\\mathrm{🐱} \\rangle = \\frac{1}{\\sqrt{2}} (|000\\dots00 \\rangle + |111\\dots11 \\rangle) $$\n",
    "\n",
    "Are the individual qubits in a cat state entangled? How do you know?"
   ]
  },
  {
   "cell_type": "markdown",
   "metadata": {},
   "source": [
    "[Your Answer Here]"
   ]
  },
  {
   "cell_type": "markdown",
   "metadata": {},
   "source": [
    "Starting from the default state of all zeros, let's build to circuit to create a cat state for a two qubit system."
   ]
  },
  {
   "cell_type": "code",
   "execution_count": null,
   "metadata": {},
   "outputs": [],
   "source": [
    "q = QuantumRegister(2, 'cat')\n",
    "circ = QuantumCircuit(q)\n",
    "circ.draw()"
   ]
  },
  {
   "cell_type": "markdown",
   "metadata": {},
   "source": [
    "We'll need another hadamard - in fact, essentially all quantum circuits begin with atleast one hadamard, any ideas why?"
   ]
  },
  {
   "cell_type": "code",
   "execution_count": null,
   "metadata": {},
   "outputs": [],
   "source": [
    "circ.h(q[0])\n",
    "circ.draw()"
   ]
  },
  {
   "cell_type": "markdown",
   "metadata": {},
   "source": [
    "Next we'll use a controlled NOT gate (aka CNOT or CX), which is a very important binary gate. The CNOT gate takes a control qubit and a target qubit as input, and inverts (applies an X gate) the target qubit if and only if the control qubit is 1.\n",
    "\n",
    "Classically, such a gate is nothing special, but in the quantum realm, thanks to superposition, the CNOT gate allows us entangle qubits."
   ]
  },
  {
   "cell_type": "code",
   "execution_count": null,
   "metadata": {},
   "outputs": [],
   "source": [
    "circ.cx(q[0],q[1])\n",
    "circ.draw()"
   ]
  },
  {
   "cell_type": "markdown",
   "metadata": {},
   "source": [
    "Now let's simulate our gate to compute the resulting state."
   ]
  },
  {
   "cell_type": "code",
   "execution_count": null,
   "metadata": {},
   "outputs": [],
   "source": [
    "backend = BasicAer.get_backend('statevector_simulator')\n",
    "job = execute(circ, backend)\n",
    "result = job.result()\n",
    "catstate = result.get_statevector(circ)\n",
    "print('Statevector:', catstate)\n",
    "print('Probabilities:', np.abs(catstate)**2)"
   ]
  },
  {
   "cell_type": "markdown",
   "metadata": {},
   "source": [
    "Remember the dimensions are ordered: $00$, $01$, $10$, $11$, so the state we are left with after applying our circuit can only have two outcomes: $00$ or $11$ - or in cat speak - very dead or very alive.\n",
    "\n",
    "Real quantum algorithms use a combination of quantum and classical circuits to process information. `qiskit` allows us to include classical registers to store the measured outcomes of our quantum circuits."
   ]
  },
  {
   "cell_type": "code",
   "execution_count": null,
   "metadata": {},
   "outputs": [],
   "source": [
    "c = ClassicalRegister(2, 'c')"
   ]
  },
  {
   "cell_type": "code",
   "execution_count": null,
   "metadata": {},
   "outputs": [],
   "source": [
    "circ.add_register(c)\n",
    "circ.measure(q[0], c[0])\n",
    "circ.measure(q[1], c[1])\n",
    "circ.draw()"
   ]
  },
  {
   "cell_type": "markdown",
   "metadata": {},
   "source": [
    "Now let's use the other backend, `qasm_simulator` to simulate running our circuit on real hardware, in which case we don't have access to the full state vector. Instead we merely get a single outcome each time run our circuit, so we can conduct many trials to get a sense of the statistics.\n",
    "\n",
    "When submitting the job, we can use the `shots` argument to specify how many independent trials we want to run."
   ]
  },
  {
   "cell_type": "code",
   "execution_count": null,
   "metadata": {},
   "outputs": [],
   "source": [
    "backend = BasicAer.get_backend('qasm_simulator')\n",
    "job = execute(circ, backend, shots=1000)\n",
    "result = job.result()"
   ]
  },
  {
   "cell_type": "markdown",
   "metadata": {},
   "source": [
    "After running the job we can view a histogram of the outcomes."
   ]
  },
  {
   "cell_type": "code",
   "execution_count": null,
   "metadata": {},
   "outputs": [],
   "source": [
    "counts = result.get_counts()\n",
    "print(counts)\n",
    "plot_histogram(counts)"
   ]
  },
  {
   "cell_type": "markdown",
   "metadata": {},
   "source": [
    "### Problem 1: Three Qubit Cat\n",
    "\n",
    "Build a quantum circuit that produces a 3 qubit cat state and confirm that it is a cat state by simulating your circuit using the `statevector_simulator` and printing the resulting statevector.\n",
    "\n",
    "In other words, starting from the (default) state $| \\psi \\rangle = |000\\rangle$, build a circuit $\\hat{\\mathbf{U}}$ which has the following effect:\n",
    "\n",
    "$$ \\hat{\\mathbf{U}} |\\psi\\rangle = \\frac{1}{\\sqrt{2}}(|000\\rangle + |111\\rangle) $$\n",
    "\n",
    "Hint: Start with the circuit above to produce a two qubit cat state."
   ]
  },
  {
   "cell_type": "markdown",
   "metadata": {},
   "source": [
    "[Your Answer Here]"
   ]
  },
  {
   "cell_type": "markdown",
   "metadata": {},
   "source": [
    "### Problem 2: Super Superpositions\n",
    "\n",
    "The real power of quantum computing comes from the parallelism. Thanks to quantum superposition states, applying a single quantum gate to $n$ qubits can affect all $2^n$ possible outcomes those qubits can have in parallel. As a result, most quantum algorithms try to take full advantage of this parallelism by starting with a state that's an equal superposition of all possible outcomes.\n",
    "\n",
    "Build a 3 qubit quantum circuit that transforms the initial state $|000\\rangle$ to an equal superposition of all 8 possible outcomes. Test your circuit using the `qasm_simulator` and plot the outcomes of 1000 shots in a histogram.\n",
    "\n",
    "Hint: In order to collect the counts of applying your circuits you need to measure your qubits and save them to a classical register. Also, the simplest solution does not require any gates that weren't used above."
   ]
  },
  {
   "cell_type": "markdown",
   "metadata": {},
   "source": [
    "[Your Answer Here]"
   ]
  }
 ],
 "metadata": {
  "kernelspec": {
   "display_name": "Python 3",
   "language": "python",
   "name": "python3"
  },
  "language_info": {
   "codemirror_mode": {
    "name": "ipython",
    "version": 3
   },
   "file_extension": ".py",
   "mimetype": "text/x-python",
   "name": "python",
   "nbconvert_exporter": "python",
   "pygments_lexer": "ipython3",
   "version": "3.7.5"
  }
 },
 "nbformat": 4,
 "nbformat_minor": 2
}
