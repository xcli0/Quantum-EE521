{
 "cells": [
  {
   "cell_type": "markdown",
   "metadata": {},
   "source": [
    "# Exam\n",
    "\n",
    "### Xichen Li, EE521"
   ]
  },
  {
   "cell_type": "markdown",
   "metadata": {},
   "source": [
    "#### Chapter-12 P2 :\n",
    "Plot the density of states as a function of Energy for a GaAs quantum well with a width of $6nm$. In plotting the DOS, choose a point located at the center of the well. Show the DOS contribution due to each sub-band and the total DOS. Include at least the three lowest subbands in the conduction band and the three highest sub-bands in the valence band. Assume that the effective mass of electrons and holes are $0.067m_o$ and $0.47m_o$, respectively."
   ]
  },
  {
   "cell_type": "markdown",
   "metadata": {},
   "source": [
    "#### Answer\n",
    "According to the lecture note, the energy eigenfunctions and eigenvalues of a quantum well are:\n",
    "$$\\psi(x,y,z)=X(x)Y(y)Z(z)=\\frac{1}{\\sqrt{L_xL_y}}\\sqrt{\\frac{2}{L}}e^ik_xxe^ik_yysin(\\frac{n\\pi}{L}z)$$\n",
    "$$E_{k_x,k_y,n}=E_c+\\frac{\\hbar^2}{2m_c}[k_x^2+k_y^2+(\\frac{n\\pi}{L})^2]=E_c+\\epsilon_n+\\frac{\\hbar^2}{2m_c}(k_x^2+k_y^2)$$ where $\\epsilon_n=\\frac{\\hbar^2}{2m_c}(\\frac{n\\pi}{L})^2$. The the DOS for a quantum well conduction band is:\n",
    "$$DOS(z,E)=\\sum_{n}|\\psi_n(r)|^2\\delta(E-E_n)=\\frac{1}{L}\\frac{m_c}{2\\pi\\hbar^2}\\sum_{n}sin^2(\\frac{n\\pi}{L}z)u(E-E_c-\\epsilon_n)$$ \n",
    "And similarly, the DOS in the valence band is:\n",
    "$$DOS(z,E)=\\frac{1}{L}\\frac{m_v}{2\\pi\\hbar^2}\\sum_{n}sin^2(\\frac{n\\pi}{L}z)u(E_v-\\epsilon_{n'}-E)$$ \n"
   ]
  },
  {
   "cell_type": "markdown",
   "metadata": {},
   "source": [
    "In this problem, we have the numbers $L=6nm$, $z=3nm$ (becasue of choosing a point located at the center of the well), $m_c=0.067m_o$, and $m_v=0.47m_o$. <br>\n",
    "In the conduction band, we consider the three lowest sub-band ($n=1,2,3$). Then the first three energy levels (corresponding to the transition point of the step function) are:\n",
    "$$E_{c,1} = E_c + \\frac{\\hbar^2}{2m_c}(\\frac{\\pi}{L})^2 = E_c + 0.156eV$$\n",
    "$$E_{c,2} = E_c + \\frac{\\hbar^2}{2m_c}(\\frac{2\\pi}{L})^2 = E_c + 0.625eV $$\n",
    "$$E_{c,3} = E_c + \\frac{\\hbar^2}{2m_c}(\\frac{3\\pi}{L})^2 = E_c + 1.41eV$$\n",
    "The corresponding change of the DOS are:\n",
    "$$DOS_{c,1} = \\frac{1}{L}\\frac{m_c}{2\\pi\\hbar^2}sin^2(\\frac{\\pi}{L}z) =\\frac{1}{L}\\frac{m_c}{2\\pi\\hbar^2} = 0.023 \\quad \\frac{1}{eV.nm^3} $$\n",
    "$$DOS_{c,2} = \\frac{1}{L}\\frac{m_c}{2\\pi\\hbar^2}sin^2(\\frac{2\\pi}{L}z) = 0 $$\n",
    "$$DOS_{c,3} = \\frac{1}{L}\\frac{m_c}{2\\pi\\hbar^2}sin^2(\\frac{3\\pi}{L}z) = \\frac{1}{L}\\frac{m_c}{2\\pi\\hbar^2} =0.023 \\quad \\frac{1}{eV.nm^3}$$\n",
    "The DOS for the conduction band of a GaAs quantum well is plotted below:\n",
    "![Ch12_P2_1.jpg](Ch12_P2_1.jpg)"
   ]
  },
  {
   "cell_type": "markdown",
   "metadata": {},
   "source": [
    "Similarly, in the valence band, we consider the three highest sub-band ($n=1,2,3$). Then the first three energy levels (corresponding to the transition point of the step function) are:\n",
    "$$E_{v,1} = E_v - \\frac{\\hbar^2}{2m_v}(\\frac{\\pi}{L})^2 = E_v - 0.022eV$$\n",
    "$$E_{v,2} = E_v - \\frac{\\hbar^2}{2m_v}(\\frac{2\\pi}{L})^2 = E_v - 0.089eV $$\n",
    "$$E_{v,3} = E_v - \\frac{\\hbar^2}{2m_v}(\\frac{3\\pi}{L})^2 = E_v - 0.2eV$$\n",
    "The corresponding change of the DOS are:\n",
    "$$DOS_{v,1} = \\frac{1}{L}\\frac{m_v}{2\\pi\\hbar^2}sin^2(\\frac{\\pi}{L}z) =\\frac{1}{L}\\frac{m_v}{2\\pi\\hbar^2} = 0.163 \\quad \\frac{1}{eV.nm^3} $$\n",
    "$$DOS_{v,2} = \\frac{1}{L}\\frac{m_v}{2\\pi\\hbar^2}sin^2(\\frac{2\\pi}{L}z) = 0 $$\n",
    "$$DOS_{v,3} = \\frac{1}{L}\\frac{m_v}{2\\pi\\hbar^2}sin^2(\\frac{3\\pi}{L}z) = \\frac{1}{L}\\frac{m_v}{2\\pi\\hbar^2} =0.163\\quad \\frac{1}{eV.nm^3}$$\n",
    "The DOS for the valence band of a GaAs quantum well is plotted below:\n",
    "![Ch12_P2_2.jpg](Ch12_P2_2.jpg)"
   ]
  },
  {
   "cell_type": "markdown",
   "metadata": {},
   "source": [
    "#### Chapter-13 P1 :\n",
    "Calculate the electron and hole density in a 1-D nanowire with a bandgap of $1 eV$. The effective mass of the conduction and valence bands is the free electron mass $m_o$. By assuming that there is only a single subband in the nanowire’s conduction and valence bands, (a) write down the expression for calculating the electron and hole densities and simplify it as much as possible, and (b) calculate a numerical value for the electron and hole densities by assuming that the Fermi energy is $200 meV$ below the nanowire’s conduction band.\n"
   ]
  },
  {
   "cell_type": "markdown",
   "metadata": {},
   "source": [
    "#### Answer\n",
    "##### Part (a) \n",
    "The electron density in the conduction band is:\n",
    "$$n_e(r)=\\int_{E_{c,min}}^{E_{c,max}}DOS_c(r,E)f(E)dE$$\n",
    "In a 1-D nanowire nanostructure, the DOS in the conduction band is:\n",
    "$$DOS_c(x,y,z,E)=\\frac{4}{L_1L_2}\\frac{1}{\\pi\\hbar}\\sum_{l,m}sin^2(\\frac{l\\pi}{L_1}x)sin^2(\\frac{m\\pi}{L_2}y)\\sqrt{\\frac{m_c}{2(E-E_c-\\epsilon_{l,m})}}u(E-E_c-\\epsilon_{l,m})$$ \n",
    "where $\\epsilon_{l,m}=\\frac{\\hbar^2}{2m_c}(\\frac{l\\pi}{L_1})^2+\\frac{\\hbar^2}{2m_c}(\\frac{m\\pi}{L_2})^2$. By assuming that there is only a single subband in the nanowire's conduction bands according to the problem description, we assume $l=m=1$. Then the DOS in the conduction band is:\n",
    "$$DOS_c(x,y,z,E)=\\frac{4}{L_1L_2}\\frac{1}{\\pi\\hbar}sin^2(\\frac{\\pi}{L_1}x)sin^2(\\frac{\\pi}{L_2}y)\\sqrt{\\frac{m_c}{2(E-E_c-\\epsilon_{1,1})}}u(E-E_c-\\epsilon_{1,1})$$ \n",
    "where $\\epsilon_{1,1}=\\frac{\\hbar^2}{2m_c}[(\\frac{\\pi}{L_1})^2+(\\frac{\\pi}{L_2})^2]$.\n"
   ]
  },
  {
   "cell_type": "markdown",
   "metadata": {},
   "source": [
    "Defining $A=\\frac{4}{L_1L_2}\\frac{1}{\\pi\\hbar}\\sqrt{m_c}$, then the electron density is:\n",
    "$$n_e(x,y)=Asin^2(\\frac{\\pi}{L_1}x)sin^2(\\frac{\\pi}{L_2}y)\\int_{E_{c,min}}^{E_{c,max}}\\sqrt{\\frac{1}{2(E-E_c-\\epsilon_{1,1})}}u(E-E_c-\\epsilon_{1,1})f(E)dE$$\n",
    "Defining $E_{c,1}=E_c+\\epsilon_{1,1}$,\n",
    "$$n_e(x,y)=Asin^2(\\frac{\\pi}{L_1}x)sin^2(\\frac{\\pi}{L_2}y)\\int_{E_{c,1}}^{\\infty}\\sqrt{\\frac{1}{2(E-E_{c,1})}}f(E)dE$$\n",
    "where $f(E)=\\frac{1}{1+e^{\\frac{E-E_F}{k_BT}}}$, then $n_e(x,y)$ becomes:\n",
    "$$n_e(x,y)=Asin^2(\\frac{\\pi}{L_1}x)sin^2(\\frac{\\pi}{L_2}y)\\int_{E_{c,1}}^{\\infty}\\sqrt{\\frac{1}{2(E-E_{c,1})}}\\frac{1}{1+e^{\\frac{E-E_F}{k_BT}}}dE$$"
   ]
  },
  {
   "cell_type": "markdown",
   "metadata": {},
   "source": [
    "Change of varaibles: $\\eta=\\frac{E-E_{c,1}}{k_BT}$ and $\\eta_{C1}=\\frac{E_F-E_{c,1}}{k_BT}$, then $n_e(x,y)$ becomes:\n",
    "$$n_e(x,y)=Asin^2(\\frac{\\pi}{L_1}x)sin^2(\\frac{\\pi}{L_2}y)(\\frac{1}{2}k_BT)^{1/2}\\int_{0}^{\\infty}\\eta^{-\\frac{1}{2}}\\frac{1}{(1+e^{\\eta-\\eta_{C1}})}d\\eta$$"
   ]
  },
  {
   "cell_type": "markdown",
   "metadata": {},
   "source": [
    "Similar to the lecture note, when $\\eta-\\eta_{C1}>3$, $n_e(x,y)$ can be written as:\n",
    "$$n_e(x,y)=Asin^2(\\frac{\\pi}{L_1}x)sin^2(\\frac{\\pi}{L_2}y)(\\frac{1}{2}k_BT)^{1/2}\\int_{0}^{\\infty}\\eta^{-\\frac{1}{2}}e^{-(\\eta-\\eta_{C1})}d\\eta$$\n",
    "$$n_e(x,y)=Asin^2(\\frac{\\pi}{L_1}x)sin^2(\\frac{\\pi}{L_2}y)(\\frac{1}{2}k_BT)^{1/2}e^{\\eta_{C1}}\\int_{0}^{\\infty}\\eta^{-\\frac{1}{2}}e^{-\\eta}d\\eta$$"
   ]
  },
  {
   "cell_type": "markdown",
   "metadata": {},
   "source": [
    "Change of variables again to solve the integral $u=\\eta^{\\frac{1}{2}}$:\n",
    "$$n_e(x,y)=Asin^2(\\frac{\\pi}{L_1}x)sin^2(\\frac{\\pi}{L_2}y)(\\frac{1}{2}k_BT)^{1/2}e^{\\eta_{C1}}\\int_{0}^{\\infty}2e^{-u^2}du$$"
   ]
  },
  {
   "cell_type": "markdown",
   "metadata": {},
   "source": [
    "The Gauss error function has a form of $erf(x)=\\frac{2}{\\sqrt \\pi}\\int_{0}^{x}e^{-t^2}dt$, then $n_e(x,y)$ becomes\n",
    "$$n_e(x,y)=Asin^2(\\frac{\\pi}{L_1}x)sin^2(\\frac{\\pi}{L_2}y)(\\frac{1}{2}k_BT)^{1/2}e^{\\eta_{C1}}2\\frac{\\sqrt{\\pi}}{2}erf(\\infty)$$\n",
    "Since $erf(\\infty)=1$\n",
    "$$n_e(x,y)=Asin^2(\\frac{\\pi}{L_1}x)sin^2(\\frac{\\pi}{L_2}y)(\\frac{1}{2}k_BT)^{1/2}e^{\\eta_{C1}}\\sqrt{\\pi}$$\n",
    "The final expression of $n_e(x,y)$ is \n",
    "$$n_e(x,y)=\\frac{4}{L_1L_2}sin^2(\\frac{\\pi}{L_1}x)sin^2(\\frac{\\pi}{L_2}y)\\frac{1}{\\pi\\hbar}\\sqrt{m_c}(\\frac{1}{2}k_BT)^{1/2}e^{\\frac{E_F-E_{c}-\\frac{\\hbar^2}{2m_c}(\\frac{\\pi}{L_1})^2-\\frac{\\hbar^2}{2m_c}(\\frac{\\pi}{L_2})^2}{k_BT}}\\sqrt{\\pi}$$"
   ]
  },
  {
   "cell_type": "markdown",
   "metadata": {},
   "source": [
    "Similar to the electron density in the conduction band, the hole density in the valence band is :\n",
    "$$n_h(r)=\\int_{E_{v,min}}^{E_{v,max}}DOS_c(r,E)[1-f(E)]dE$$\n",
    "After performing some simplifications and use $B=\\frac{4}{L_1L_2}\\frac{1}{\\pi\\hbar}\\sqrt{m_v}$ , we can get:\n",
    "$$n_h(x,y)=Bsin^2(\\frac{\\pi}{L_1}x)sin^2(\\frac{\\pi}{L_2}y)\\int_{-\\infty}^{E_{v,1}}\\sqrt{\\frac{1}{2(E_{v,1}-E)}}[1-f(E)]dE$$\n",
    "where $E_{v,1}=E_v-\\epsilon_{1,1}$, and again $\\epsilon_{1,1}=\\frac{\\hbar^2}{2m_v}[(\\frac{\\pi}{L_1})^2+(\\frac{\\pi}{L_2})^2]$.\n",
    "$$n_h(x,y)=Bsin^2(\\frac{\\pi}{L_1}x)sin^2(\\frac{\\pi}{L_2}y)\\int_{-\\infty}^{E_{v,1}}\\sqrt{\\frac{1}{2(E_{v,1}-E)}}[1-\\frac{1}{1+e^{\\frac{E-E_F}{k_BT}}}]dE$$\n"
   ]
  },
  {
   "cell_type": "markdown",
   "metadata": {},
   "source": [
    "Change of varaibles: $\\eta=\\frac{E_{v,1}-E}{k_BT}$ and $\\eta_{v1}=\\frac{E_F-E_{v,1}}{k_BT}$, then $n_h(x,y)$ becomes:\n",
    "$$n_h(x,y)=\\frac{4}{L_1L_2}\\frac{1}{\\pi\\hbar}\\sqrt{m_v}sin^2(\\frac{\\pi}{L_1}x)sin^2(\\frac{\\pi}{L_2}y)(\\frac{1}{2}k_BT)^{\\frac{1}{2}}\\int_{0}^{\\infty}\\eta^{-\\frac{1}{2}}[\\frac{1}{1+e^{-\\eta-\\eta_{v1}}}-1]d\\eta$$"
   ]
  },
  {
   "cell_type": "markdown",
   "metadata": {},
   "source": [
    "##### Part(b)"
   ]
  },
  {
   "cell_type": "markdown",
   "metadata": {},
   "source": [
    "Becasue the bandgap of this nanowire is $1eV$ and the Fermi energy is $200 meV$ below the nanowire’s conduction band, so we have:\n",
    "$$E_F-E_{c,1}=E_F-[E_{c}+\\frac{\\hbar^2}{2m_c}(\\frac{\\pi}{L_1})^2+\\frac{\\hbar^2}{2m_c}(\\frac{\\pi}{L_2})^2]=-200meV$$\n",
    "$$E_F-E_{v1}=E_F-[E_v-\\frac{\\hbar^2}{2m_e}(\\frac{\\pi}{L_1})^2-\\frac{\\hbar^2}{2m_e}(\\frac{\\pi}{L_2})^2]=800meV$$"
   ]
  },
  {
   "cell_type": "markdown",
   "metadata": {},
   "source": [
    "Then the electron density $n_e(x,y)$ at any specific location (x,y) in a naowire is:\n",
    "$$n_e(x,y)=\\frac{4}{L_1L_2}sin^2(\\frac{\\pi}{L_1}x)sin^2(\\frac{\\pi}{L_2}y)\\frac{1}{\\pi\\hbar}\\sqrt{m_c}(\\frac{1}{2}k_BT)^{1/2}e^{\\frac{-200meV}{k_BT}}\\sqrt{\\pi}$$"
   ]
  },
  {
   "cell_type": "markdown",
   "metadata": {},
   "source": [
    "By assuming a room temperature $T=298K$, $k_BT=4.11*10^{-21}J$\n",
    "$$n_e(x,y)=\\frac{4}{L_1L_2}sin^2(\\frac{\\pi}{L_1}x)sin^2(\\frac{\\pi}{L_2}y)\\frac{1}{\\pi*6.63*10^{-34}/2/\\pi}\\sqrt{9.11*10^{-31}}(\\frac{1}{2}4.11*10^{-21})^{1/2}e^{\\frac{-0.2*1.6*10^{-19}}{4.11*10^{-21}}}\\sqrt{\\pi}$$"
   ]
  },
  {
   "cell_type": "markdown",
   "metadata": {},
   "source": [
    "$$n_e(x,y)=\\frac{1}{L_1L_2}sin^2(\\frac{\\pi}{L_1}x)sin^2(\\frac{\\pi}{L_2}y)*3.85*10^{5}/m$$"
   ]
  },
  {
   "cell_type": "markdown",
   "metadata": {},
   "source": [
    "By using $E_F-E_{v1}=800meV$, the integral in the expression of the hole density is calculated using Matlab and the resulting $n_h(x,y)$ at any specific location (x,y) in a nanowire is:"
   ]
  },
  {
   "cell_type": "markdown",
   "metadata": {},
   "source": [
    "$$n_h(x,y)=\\frac{1}{L_1L_2}sin^2(\\frac{\\pi}{L_1}x)sin^2(\\frac{\\pi}{L_2}y)*(-2.76*10^{-5})/m$$"
   ]
  },
  {
   "cell_type": "code",
   "execution_count": null,
   "metadata": {},
   "outputs": [],
   "source": []
  },
  {
   "cell_type": "code",
   "execution_count": null,
   "metadata": {},
   "outputs": [],
   "source": []
  },
  {
   "cell_type": "code",
   "execution_count": null,
   "metadata": {},
   "outputs": [],
   "source": []
  },
  {
   "cell_type": "code",
   "execution_count": null,
   "metadata": {},
   "outputs": [],
   "source": []
  },
  {
   "cell_type": "code",
   "execution_count": null,
   "metadata": {},
   "outputs": [],
   "source": []
  },
  {
   "cell_type": "code",
   "execution_count": null,
   "metadata": {},
   "outputs": [],
   "source": []
  }
 ],
 "metadata": {
  "kernelspec": {
   "display_name": "Python 3 (ipykernel)",
   "language": "python",
   "name": "python3"
  },
  "language_info": {
   "codemirror_mode": {
    "name": "ipython",
    "version": 3
   },
   "file_extension": ".py",
   "mimetype": "text/x-python",
   "name": "python",
   "nbconvert_exporter": "python",
   "pygments_lexer": "ipython3",
   "version": "3.9.15"
  }
 },
 "nbformat": 4,
 "nbformat_minor": 2
}
