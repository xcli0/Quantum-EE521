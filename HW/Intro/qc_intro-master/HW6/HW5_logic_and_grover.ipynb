{
 "cells": [
  {
   "cell_type": "markdown",
   "metadata": {},
   "source": [
    "# Grover's Algorithm on 1-IN-3-SAT\n",
    "\n",
    "So far we've been focusing on fairly simple systems designed solely for observing and understanding mysterious behavior quantum mechanics. Now, we'll put our engineering hat's on and build a circuit that will actually solve a real (albeit small scale) problem. Although the problem we'll tackle is small, it is by no means easy. In fact, let's go straight for some of the hardest (yet most important) types of problems studied, a $\\mathcal{NP}$-complete problem!\n",
    "\n",
    "First, a quick recap on complexity theory, so we can really appreciate what we're about to do. Algorithms can be compared in terms of how much space (memory) or time (number of operations) they require, in terms of their input size (denoted $N$). Algorithms can be classified into different sets, for example, the set of polynomial algorithms (denoted $\\mathcal{P}$) comprises of all the algorithms that require on the order of a polynomial steps in the input, denoted $\\mathcal{O}(N^K)$ for some $K$. Another important set is the set of non-deterministic polynomial algorithms (denoted $\\mathcal{NP}$). A subset of $\\mathcal{NP}$ problems are $\\mathcal{NP}$-complete, so called because any problem in $\\mathcal{NP}$ can efficiently be transformed into an $\\mathcal{NP}$-complete problem. \n",
    "\n",
    "One of the most famous unsolved problems in mathematics is \"$\\mathcal{P}$ vs $\\mathcal{NP}$\" which asks whether or not the sets $\\mathcal{P}$ and $\\mathcal{NP}$ are actually the same. It's hard to understate the importance of this question because if it turns out $\\mathcal{P}=\\mathcal{NP}$ then that would mean there exists an efficient (meaning polynomial time) algorithm to solve any $\\mathcal{NP}$ problem, and many of the most interesting problems we would like to solve are in $\\mathcal{NP}$. One way to prove $\\mathcal{P}=\\mathcal{NP}$ is to develop an efficient algorithm for any one $\\mathcal{NP}$-complete problem. Currently, the only algorithms we know to solve $\\mathcal{NP}$-complete problems are exponential in time ($\\mathcal{O}(K^N)$ for some $K$). A very popular family of $\\mathcal{NP}$-complete problems solve for satisfiability of boolean expressions, which is what we'll be investigating.\n",
    "\n",
    "Now before you start thinking you have to solve \"$\\mathcal{P}$ vs $\\mathcal{NP}$\" for homework (but extra credit if you do, in addition to instant world fame, a Field's medal, and millions of dollars worth of prizes!), what we're actually going to do is apply Grover's algorithm to the 1-IN-3-SAT problem. Grover's algorithm takes advantage of quantum mechanics to find solutions to a problem in $\\mathcal{O}(\\sqrt N)$, where $N$ is the number of possibilities (eg. database size), which allows us to solve the 1-IN-3-SAT problems faster than any classical algorithm."
   ]
  },
  {
   "cell_type": "code",
   "execution_count": null,
   "metadata": {},
   "outputs": [],
   "source": [
    "import numpy as np\n",
    "%matplotlib inline\n",
    "import matplotlib.pyplot as plt\n",
    "from qiskit import BasicAer, IBMQ\n",
    "from qiskit import QuantumCircuit, ClassicalRegister, QuantumRegister, execute\n",
    "from qiskit.tools.visualization import plot_histogram"
   ]
  },
  {
   "cell_type": "markdown",
   "metadata": {},
   "source": [
    "## Quantum Boolean Logic \n",
    "\n",
    "Before diving in to $\\mathcal{NP}$-Complete problems and quantum circuits that are several pages long, let's get an idea for boolean logic with quantum circuits. \n",
    "\n",
    "There are two interesting properties of quantum circuits to consider: reversibility and no cloning. Remember that all the quantum circuits (up to measurement) are in theory fully reversible. Additionally, the no-cloning theorem tells us that given a qubit in some unknown state, there's no way to duplicate the state on another qubit.\n",
    "\n",
    "These two properties require us to use separate input and output registers (qubits), and to be careful about undoing any operations that change our input qubits for future operations. Additionally, we will employ auxiliary qubits, or \"ancilla,\" that will store intermediate values during computation. Just as we have to be hygenic about our input register, we will have to undo our operations on the ancilla to keep their state consistent (also referred to as keeping them \"clean\").\n",
    "\n",
    "With this formalism, there are a handful of common logic gates that are particularly easy to implement: `NOT`, `XOR`, and `AND`. This small set of gates is already complete, which means we can build any boolean logic circuit with these gates alone. The three functions below implement classical `AND`, `NOT`, `XOR` gates in a quantum circuit (`circ`) given the input (`a`,`b`) and output (`y`) quantum registers."
   ]
  },
  {
   "cell_type": "code",
   "execution_count": null,
   "metadata": {},
   "outputs": [],
   "source": [
    "def AND(circ,out,a,b): # using a Toffoli gate\n",
    "    circ.ccx(a,b,out)\n",
    "def NOT(circ,y): # using an X gate (same output register as input)\n",
    "    circ.x(y)\n",
    "def XOR(circ,out,*inputs): # using 2 CNOT gates\n",
    "    for i in inputs:\n",
    "        circ.cx(i,out)\n",
    "\n",
    "def init_superposition(circ, fin): # initialize our input states as superpositions, so we test all boolean inputs\n",
    "    circ.h(fin)"
   ]
  },
  {
   "cell_type": "markdown",
   "metadata": {},
   "source": [
    "As an example we can implement the expression $V$:\n",
    "\n",
    "$$V = (x_2 \\oplus x_1 \\oplus x_0) \\wedge \\lnot x_2 $$\n",
    "\n",
    "where the $x_i$s are boolean variables, and $\\oplus$ is the exclusive \"or\" (`XOR`) operation.\n",
    "\n",
    "A quick calculation tells us $V$ is true if and only if $x_2x_1x_0 \\in \\{ 001, 010 \\}$. So let's confirm this by simulating the eqivalent quantum circuit using qiskit."
   ]
  },
  {
   "cell_type": "code",
   "execution_count": null,
   "metadata": {},
   "outputs": [],
   "source": [
    "f_in = QuantumRegister(3, 'in')\n",
    "f_out = QuantumRegister(1, 'out')\n",
    "aux = QuantumRegister(1, 'aux')\n",
    "qc = QuantumCircuit(f_in, f_out, aux)\n",
    "init_superposition(qc, f_in)"
   ]
  },
  {
   "cell_type": "code",
   "execution_count": null,
   "metadata": {},
   "outputs": [],
   "source": [
    "XOR(qc, aux[0], f_in[0], f_in[1], f_in[2])\n",
    "qc.barrier()\n",
    "NOT(qc, f_in[2])\n",
    "qc.barrier()\n",
    "AND(qc, f_out[0], aux[0], f_in[2])\n",
    "qc.draw(output='mpl')"
   ]
  },
  {
   "cell_type": "markdown",
   "metadata": {},
   "source": [
    "After applying all these gates, we will measure all of our qubits (including the ancilla)."
   ]
  },
  {
   "cell_type": "code",
   "execution_count": null,
   "metadata": {},
   "outputs": [],
   "source": [
    "def measure(circ, q, c=None):\n",
    "    if c is None:\n",
    "        c = ClassicalRegister(len(q), 'c{}'.format(q.name))\n",
    "        circ.add_register(c)\n",
    "    circ.measure(q,c)"
   ]
  },
  {
   "cell_type": "code",
   "execution_count": null,
   "metadata": {},
   "outputs": [],
   "source": [
    "qc.barrier()\n",
    "measure(qc, f_out)\n",
    "measure(qc, aux)\n",
    "measure(qc, f_in)\n",
    "qc.draw(output='mpl')"
   ]
  },
  {
   "cell_type": "markdown",
   "metadata": {},
   "source": [
    "Don't worry about `qiskit` having apparently moved some of the measurement operations before applying some of our gates. `qiskit` is just optimizing to measure each qubit as soon as possible to make our overall state space as small as possible, which will make the simulation more efficient. These optimizations will not change anything about the outcomes. Now we can simulate our circuit with 1000 trials using the `qasm_simulator`."
   ]
  },
  {
   "cell_type": "code",
   "execution_count": null,
   "metadata": {},
   "outputs": [],
   "source": [
    "backend = BasicAer.get_backend('qasm_simulator')\n",
    "job = execute(qc, backend=backend)\n",
    "result = job.result()\n",
    "print('f_in aux f_out')\n",
    "result.get_counts()"
   ]
  },
  {
   "cell_type": "markdown",
   "metadata": {},
   "source": [
    "In this case we are less interested in how often we get each result, and more interested in what results we get. You'll notice that there are spaces in between the binary outcomes for each bit to separate each of the registers we defined. Given the order we defined our gates, the first group of three values correspond to our input bits (`f_in`), the second number corresponds to the ancilla (`aux`), and the final number to the output bit (`f_out`). The input bits are printed in decending order ($x_2$, $x_1$, and then $x_0$).\n",
    "\n",
    "However, you will notice there are two problems: first our ancilla are not always 0 (which means they are no longer clean), and secondly, perhaps more alarmingly, we don't get the correct results. Based on the simulator our expression evaluates to true when for inputs of 101 and 110. Both issues actually have the same cause: we didn't undo our operations.\n",
    "\n",
    "Try rebuilding the circuit, but now, adding some gates after we write our result to the output qubit."
   ]
  },
  {
   "cell_type": "code",
   "execution_count": null,
   "metadata": {},
   "outputs": [],
   "source": [
    "f_in = QuantumRegister(3, 'in')\n",
    "f_out = QuantumRegister(1, 'out')\n",
    "aux = QuantumRegister(1, 'aux')\n",
    "qc = QuantumCircuit(f_in, f_out, aux)\n",
    "init_superposition(qc, f_in)\n",
    "\n",
    "XOR(qc, aux[0], f_in[0], f_in[1], f_in[2])\n",
    "NOT(qc, f_in[2])\n",
    "AND(qc, f_out[0], aux[0], f_in[2]) # Computation complete - result is \"written\" to f_out \n",
    "qc.barrier()\n",
    "\n",
    "# Undo operations to input qubits and ancilla\n",
    "NOT(qc, f_in[2])\n",
    "XOR(qc, aux[0], f_in[0], f_in[1], f_in[2])\n",
    "\n",
    "qc.barrier()\n",
    "measure(qc, f_out)\n",
    "measure(qc, aux)\n",
    "measure(qc, f_in)\n",
    "\n",
    "qc.draw(output='mpl')"
   ]
  },
  {
   "cell_type": "code",
   "execution_count": null,
   "metadata": {},
   "outputs": [],
   "source": [
    "backend = BasicAer.get_backend('qasm_simulator')\n",
    "job = execute(qc, backend=backend)\n",
    "result = job.result()\n",
    "print('f_in aux f_out')\n",
    "result.get_counts()"
   ]
  },
  {
   "cell_type": "markdown",
   "metadata": {},
   "source": [
    "Note that now our ancilla is always 0, and we can recover the correct results.\n",
    "\n",
    "The lesson here is that if want to compute an arbitrary function using a quantum circuit, we must use a separate input and output register, in addition to some number of ancilla (theoretically you only ever need a single ancilla qubit, but often the circuit can be greatly simplified by using multiple ancilla). After completing the computation of the function (meaning all necessary gates are applied to the output qubits), we have to undo the computation, by reapplying all the gates (except those that write the results to the output qubits) in reverse order."
   ]
  },
  {
   "cell_type": "markdown",
   "metadata": {},
   "source": [
    "### Problem 1: An and and and\n",
    "\n",
    "Try implementing another simple logical expression $W$:\n",
    "\n",
    "$$ W = x_2 \\wedge \\lnot x_1 \\wedge x_0 $$\n",
    "\n",
    "Hint 1: You should not need more than one ancilla in your circuit.\n",
    "\n",
    "Hint 2: Remember to undo your computation to keep your input qubits and ancilla nice and clean. Your ancilla should always come out to zero, and the output should only be true when $x_2x_1x_0 = 101$."
   ]
  },
  {
   "cell_type": "markdown",
   "metadata": {},
   "source": [
    "[Your answer here]"
   ]
  },
  {
   "cell_type": "markdown",
   "metadata": {},
   "source": [
    "## 1-IN-3-SAT\n",
    "\n",
    "Satisfying boolean expression is a rather important problem in science and engineering. One especially interesting application, is where variables correspond to decisions and the expression might encode constraints or consequences of choices. The goal is to find an assignment of all the variables that will complete, or satisfy, the overall problem. Unfortunately, SAT, and the related 3-SAT problems are $\\mathcal{NP}$-complete, so there might not exist an efficient algorithm for finding assignments to the variables which will satisfy the expression.\n",
    "\n",
    "Just like 3-SAT, our subject, 1-IN-3-SAT, starts with a boolean expression comprising of some number of clauses using $N$ boolean variables ($x_i \\in \\left\\{ 0,1 \\right\\}$). \n",
    "\n",
    "Let $E$ be our input expression made up of $M$ clauses, where $c_j$ is the $j$th clause, then,\n",
    "\n",
    "$$ E = c_0 \\wedge c_1 \\wedge \\ldots \\wedge c_{M-2} \\wedge c_{M-1} $$\n",
    "\n",
    "Each clause $c_j$ is a disjunction of three variables (possibly negated). For example, $c_1$ might contain $x_0$, $x_1$, and $x_2$, so that\n",
    "\n",
    "$$ c_1 = x_0 \\vee \\lnot x_1 \\vee x_2 $$\n",
    "\n",
    "where $\\lnot$ is the `NOT` operator, $\\wedge$ is the `AND` operator, and $\\vee$ is the `OR` operator.\n",
    "\n",
    "Given expression $E$, containing $N$ variables, we have to find the assignments of the variables ($x_i$) which will satisfy  $E$. However, so far this is just the 3-SAT problem, so there's the additional twist that in each of our clauses $c_j$ exactly one of the terms is true, while the other two must be false. These additional constraints can be encoded by transforming our example clause $c_1$ to $g_1$:\n",
    "\n",
    "$$ g_1 = x_0 \\oplus \\lnot x_1 \\oplus x_2 \\oplus ( x_0 \\wedge \\lnot x_1 \\wedge x_2 )$$\n",
    "\n",
    "Now $g_1$ will only be true if $c_1$ is true, and only one of the terms ($x_0$, $\\lnot x_1$, and $x_2$) are true.\n",
    "\n",
    "Therefore, the problem in 1-IN-3-SAT is, given an expression $E$ to find assignments to our variables $x_i$ to satisfy the transformed expression $E'$:\n",
    "\n",
    "$$ E' = g_0 \\wedge g_1 \\wedge \\ldots \\wedge g_{M-2} \\wedge g_{M-1} $$\n",
    "\n",
    "where each clause $g_j$ is the result of transforming $c_j$ as described above.\n",
    "\n",
    "Note that our transformed clauses include only `NOT`, `AND`, and `XOR` operations, which makes this problem relatively easy to implement using common quantum gates."
   ]
  },
  {
   "cell_type": "markdown",
   "metadata": {},
   "source": [
    "Below is a function that takes in an expression $E$ and implements the corresponding $E'$ on circuit `circ` to be used in Grover's algorithm.\n",
    "\n",
    "The expression (`expression`) that is passed in to the function must be a `list` of clauses (we'll limit ourselves to 3 clause expressions). Each clause is a list of terms in the form of integers. The value of each integer refers to the variable index, and the sign to whether or not the variable is negated.\n",
    "\n",
    "For example, if:\n",
    "\n",
    "$$ E = (x_0 \\vee x_1 \\vee \\lnot x_2) \\wedge (\\lnot x_0 \\vee \\lnot x_1 \\vee \\lnot x_2) \\wedge (\\lnot x_0 \\vee x_1 \\vee x_2) $$\n",
    "\n",
    "Then the corresponding expression becomes `expression = [[1, 2, -3], [-1, -2, -3], [-1, 2, 3]]`. \n",
    "\n",
    "Here $i+1$ corresponds to $x_i$ and $-(i+1)$ corresponds to $NOT(x_i)$, where $i=0, 1, 2$. We have changed $x_i$ to $i+1$ only for programming convenience (see program below).\n",
    "\n",
    "\n",
    "The answer to this expression is $x_0 = 1, x_1 = 0, x_2 = 1$, satisfy the 1-IN-3-SAT requirement. \n",
    "\n",
    "$$ => E = (1 \\vee 0 \\vee \\lnot 1) \\wedge (\\lnot 1 \\vee \\lnot 0 \\vee \\lnot 1) \\wedge (\\lnot 1 \\vee 0 \\vee 1) $$\n",
    "$$ E = (1 \\vee 0 \\vee 0) \\wedge (0 \\vee 1 \\vee 0) \\wedge (0 \\vee 0 \\vee 1) $$"
   ]
  },
  {
   "cell_type": "markdown",
   "metadata": {},
   "source": [
    "## Grover's Algorithm\n",
    "\n",
    "So far when we simulated our logic expressions, we ran many trials to get an estimate of all the possible outcomes, and then we could infer which assignments of the variables would produce an output of 1. However, if our expression is large, and comprises of many variables, then it may take exponentially (in the number of variables) many trials before we will observe a satisfying assignment (ie. the output is measured to be 1). \n",
    "\n",
    "Consequently, we want to increase the probability of measuring our output qubit to be 1. Grover's algorithm is an iterative algorithm which will do just that. In each step of Grover's algorithm, we first evaluate the input expression from a superposition of all possible states invert only those states we are interested in (this called applying the \"oracle\" operator), and then we will invert the amplitudes about the mean, which will increase the probability of measuring the desired outcome.\n",
    "\n",
    "The `apply_oracle` function takes care of the first step, and below the function `invert_about_avg` executes the second step."
   ]
  },
  {
   "cell_type": "code",
   "execution_count": null,
   "metadata": {},
   "outputs": [],
   "source": [
    "def apply_oracle(circ, f_in, f_out, aux, n, expression):\n",
    "    num_clauses = len(expression)\n",
    "    for (k, clause) in enumerate(expression):\n",
    "        # This loop ensures aux[k] is 1 if an odd number of literals are true\n",
    "        for literal in clause:\n",
    "            if literal > 0:\n",
    "                circ.cx(f_in[literal-1], aux[k])\n",
    "            else:\n",
    "                circ.x(f_in[-literal-1])\n",
    "                circ.cx(f_in[-literal-1], aux[k])\n",
    "            \n",
    "        # Flip aux[k] if all literals are true, using auxiliary qubit (ancilla) aux[num_clauses]\n",
    "        circ.barrier(f_in)\n",
    "        circ.ccx(f_in[0], f_in[1], aux[num_clauses])\n",
    "        circ.ccx(f_in[2], aux[num_clauses], aux[k])\n",
    "        circ.barrier(f_in)\n",
    "        \n",
    "        # Flip back to reverse state of negative literals and ancilla\n",
    "        circ.ccx(f_in[0], f_in[1], aux[num_clauses])\n",
    "        for literal in clause:\n",
    "            if literal < 0:\n",
    "                circ.x(f_in[-literal-1])\n",
    "        circ.barrier()\n",
    "        \n",
    "    # The formula is satisfied if and only if all auxiliary qubits\n",
    "    # except aux[num_clauses] are 1\n",
    "    if (num_clauses == 1):\n",
    "        circ.cx(aux[0], f_out[0])\n",
    "    elif (num_clauses == 2):\n",
    "        circ.ccx(aux[0], aux[1], f_out[0])\n",
    "    elif (num_clauses == 3):\n",
    "        circ.ccx(aux[0], aux[1], aux[num_clauses])\n",
    "        circ.ccx(aux[2], aux[num_clauses], f_out[0])\n",
    "        circ.ccx(aux[0], aux[1], aux[num_clauses])\n",
    "    else:\n",
    "        raise ValueError('We only allow at most 3 clauses')\n",
    "    circ.barrier()\n",
    "    \n",
    "    # Flip back any auxiliary qubits to make sure state is consistent\n",
    "    # for future executions of this routine; same loop as above.\n",
    "    for (k, clause) in enumerate(expression):\n",
    "        for literal in clause:\n",
    "            if literal > 0:\n",
    "                circ.cx(f_in[literal-1], aux[k])\n",
    "            else:\n",
    "                circ.x(f_in[-literal-1])\n",
    "                circ.cx(f_in[-literal-1], aux[k])\n",
    "        circ.barrier(f_in)\n",
    "        circ.ccx(f_in[0], f_in[1], aux[num_clauses])\n",
    "        circ.ccx(f_in[2], aux[num_clauses], aux[k])\n",
    "        circ.barrier(f_in)\n",
    "        circ.ccx(f_in[0], f_in[1], aux[num_clauses])\n",
    "        for literal in clause:\n",
    "            if literal < 0:\n",
    "                circ.x(f_in[-literal-1])\n",
    "        circ.barrier()"
   ]
  },
  {
   "cell_type": "code",
   "execution_count": null,
   "metadata": {},
   "outputs": [],
   "source": [
    "def CnX(circ, ctrls, target, clean_aux=None):\n",
    "    assert len(ctrls) >= 1, 'No control qubits specified'\n",
    "    if not isinstance(ctrls, list):\n",
    "        ctrls = tuple(ctrls)\n",
    "    if len(ctrls) == 1:\n",
    "        try:\n",
    "            circ.cx(ctrls[0], target[0])\n",
    "        except:\n",
    "            circ.cx(ctrls[0], target)\n",
    "    elif len(ctrls) == 2:\n",
    "        try:\n",
    "            circ.ccx(ctrls[0], ctrls[1], target[0])\n",
    "        except:\n",
    "            circ.ccx(ctrls[0], ctrls[1], target)\n",
    "    else:\n",
    "        aux = clean_aux\n",
    "        if aux is None or len(aux) != len(ctrls)-2:\n",
    "            print('Did not receive the right number of ancillae - automatically creating new ones: got {}, need {}'.format(len(aux),len(ctrls)-2))\n",
    "            aux = QuantumRegister(len(ctrls)-2, 'aux')\n",
    "            circ.add_register(aux)\n",
    "            aux = list(aux)\n",
    "        if not isinstance(aux, list):\n",
    "            aux = list(aux)\n",
    "        a,b,y = ctrls.pop(), ctrls.pop(), aux.pop()\n",
    "        circ.ccx(a,b,y)\n",
    "        ctrls.append(y)\n",
    "        CnX(circ, ctrls, target, aux)\n",
    "        circ.ccx(a,b,y)\n",
    "        \n",
    "def CnZ(circ, ctrls, target, clean_aux=None):\n",
    "    circ.h(target)\n",
    "    CnX(circ, ctrls, target, clean_aux)\n",
    "    circ.h(target)\n",
    "        \n",
    "def invert_about_avg(circ, bits, aux=None):\n",
    "    try:\n",
    "        bits[1:]\n",
    "        gbits = bits\n",
    "    except:\n",
    "        gbits = tuple(bits)\n",
    "    circ.h(bits)\n",
    "    circ.x(bits)\n",
    "    circ.barrier(bits)\n",
    "    CnZ(circ, gbits[:-1], gbits[-1], aux)\n",
    "    circ.barrier(bits)\n",
    "    circ.x(bits)\n",
    "    circ.h(bits)\n",
    "    \n",
    "def init_grover(circ, fin, fout):\n",
    "    circ.h(fin)\n",
    "    circ.x(fout)\n",
    "    circ.h(fout)"
   ]
  },
  {
   "cell_type": "markdown",
   "metadata": {},
   "source": [
    "Let us first understand each step of this circuit of Grover's algorithm. The example circuit below has 3 input qubits $(x_0, x_1, x_2)$ and one clause in expression. The output qubit is $out_0$, the aux qubits (extra bits to help with computation) are $aux_0, aux_1$. We will only perform one iteration of Grover's algorithm on this example. \n",
    "\n",
    "Remember that $x_0, x_1, x_2, out_0, aux_0, aux_1$ are all zeros at the begining. "
   ]
  },
  {
   "cell_type": "markdown",
   "metadata": {},
   "source": [
    "With `experssion = [[1, 2, -3]]`, we have experssion: \n",
    "$$ E = c_1 = x_0 \\vee x_1 \\vee \\lnot x_2 $$\n",
    "Then we have 1-IN-3-SAT transformed expression: \n",
    "$$ E' = g_1 = x_0 \\oplus x_1 \\oplus \\lnot x_2 \\oplus ( x_0 \\wedge x_1 \\wedge \\lnot x_2 )$$"
   ]
  },
  {
   "cell_type": "code",
   "execution_count": null,
   "metadata": {
    "scrolled": false
   },
   "outputs": [],
   "source": [
    "# In the code below x0, x1, x2 are represented by [1, 2, 3]\n",
    "n = 3\n",
    "expression = [[1, 2, -3]]\n",
    "\n",
    "f_in = QuantumRegister(n, 'x')\n",
    "f_out = QuantumRegister(1, 'out')\n",
    "aux = QuantumRegister(len(expression) + 1, 'aux') # our oracle requires n+1 ancilla\n",
    "circ = QuantumCircuit(f_out, f_in, aux)\n",
    "\n",
    "grover = QuantumCircuit()\n",
    "grover.add_register(f_in)\n",
    "grover.add_register(f_out)\n",
    "grover.add_register(aux)\n",
    "\n",
    "T = 1 # number of steps to take\n",
    "\n",
    "init_grover(grover, f_in, f_out)\n",
    "for t in range(T):\n",
    "    grover.barrier()\n",
    "    apply_oracle(grover, f_in, f_out, aux, n, expression)\n",
    "    invert_about_avg(grover, f_in, aux)\n",
    "grover.barrier()\n",
    "grover.draw(output='mpl')"
   ]
  },
  {
   "cell_type": "markdown",
   "metadata": {},
   "source": [
    "The following steps corresponding to each block (separate by long gray vertical bars) in the circuit diagram above:\n",
    "\n",
    "1. Initialize the input qubits and output qubit of Grover's algorithm\n",
    "2. Apply $\\hat{V}$ (oracle reflection transformation) with 1st clause of expression to the input qubits. (Creating transformed expression $E'$) The following small steps are separated by short gray vertical bars. \n",
    "  1. $ aux_0 = x_0 \\oplus x_1 \\oplus \\lnot x_2 $\n",
    "  2. $ < aux_1 = x_0 \\wedge x_1 > $  \n",
    "    $ < aux_0 = aux_1 \\wedge x_2 = x_0 \\wedge x_1 \\wedge x_2 > $   \n",
    "    Now we obtain the $g_1$ clause on $aux_0$:\n",
    "    $ aux_0 = aux_0 \\oplus (x_0 \\wedge x_1 \\wedge x_2) = x_0 \\oplus x_1 \\oplus \\lnot x_2 \\oplus (x_0 \\wedge x_1 \\wedge x_2) $  \n",
    "  3. The last two gates will flip back the input qubits $(x_0, x_1, x_2)$ and aux qubit $(aux_1)$ to make sure state is consistent. (control quibit don't need to flip back).  \n",
    "`FYI, there will be 2nd, 3rd, ... clauses if we have to do them.`\n",
    "    \n",
    "3. Apply the result to the output qubit   \n",
    "  $ out_0 = out_0 \\oplus aux_0 $\n",
    "4. Flip back all the qubits except $out_0$. Apply the exact same gates as step 2.\n",
    "5. Apply $\\hat{W}$ (invert and average transformation) to the input qubits. See detail about this transformation at Example 6.5.7.8 in Chap 6 Lecture note (Page 47-48). "
   ]
  },
  {
   "cell_type": "markdown",
   "metadata": {},
   "source": [
    "Now we can put all the steps together and build the circuit that applies Grover's algorithm to the desired expression to solve the 1-IN-3-SAT problem.  \n",
    "The example circuit below has 3 input qubits $(x_0, x_1, x_2)$ and three clauses in expression. The output qubit is $out_0$, the aux qubits (extra bits to help with computation) are $aux_0, aux_1$. We will only perform one iteration of Grover's algorithm on this example. "
   ]
  },
  {
   "cell_type": "code",
   "execution_count": null,
   "metadata": {},
   "outputs": [],
   "source": [
    "n = 3\n",
    "expression = [[1, 2, -3], [-1, -2, -3], [-1, 2, 3]]\n",
    "\n",
    "f_in = QuantumRegister(n, 'x')\n",
    "f_out = QuantumRegister(1, 'out')\n",
    "aux = QuantumRegister(len(expression) + 1, 'aux') # our oracle requires n+1 ancilla\n",
    "circ = QuantumCircuit(f_out, f_in, aux)\n",
    "\n",
    "grover = QuantumCircuit()\n",
    "grover.add_register(f_in)\n",
    "grover.add_register(f_out)\n",
    "grover.add_register(aux)"
   ]
  },
  {
   "cell_type": "markdown",
   "metadata": {},
   "source": [
    "Since Grover's algorithm is iterative we can choose how many steps to take before measuring. It turns out, that we actually have to be careful not to take too many steps, which will cause overrotation, which means our desired outcomes actually become less likely again."
   ]
  },
  {
   "cell_type": "code",
   "execution_count": null,
   "metadata": {},
   "outputs": [],
   "source": [
    "T = 2 # number of steps to take\n",
    "\n",
    "init_grover(grover, f_in, f_out)\n",
    "for t in range(T):\n",
    "    grover.barrier()\n",
    "    apply_oracle(grover, f_in, f_out, aux, n, expression)\n",
    "    invert_about_avg(grover, f_in, aux)"
   ]
  },
  {
   "cell_type": "markdown",
   "metadata": {},
   "source": [
    "Since we are actually only interested in the assignments of the input variables, we don't even have to measure the output qubit."
   ]
  },
  {
   "cell_type": "code",
   "execution_count": null,
   "metadata": {},
   "outputs": [],
   "source": [
    "grover.barrier()\n",
    "measure(grover, f_in)"
   ]
  },
  {
   "cell_type": "markdown",
   "metadata": {},
   "source": [
    "Now we can simulate our circuit, and run many trials to get an idea of how likely each outcome is. This is a fairly large circuit, so don't worry if the simulator needs a couple seconds."
   ]
  },
  {
   "cell_type": "code",
   "execution_count": null,
   "metadata": {},
   "outputs": [],
   "source": [
    "# Execute circuit\n",
    "backend = BasicAer.get_backend('qasm_simulator')\n",
    "job = execute([grover], backend=backend, shots=200)\n",
    "result = job.result()\n",
    "counts = result.get_counts(grover)\n",
    "plot_histogram(counts)"
   ]
  },
  {
   "cell_type": "markdown",
   "metadata": {},
   "source": [
    "As you can see, we measure the outcome 101 more than of the time. The corresponding assignment does in fact satisfy the expression just like we wanted.\n",
    "\n",
    "We can also see just how large our circuit actually is. Considering we have to apply our oracle gate once for each step, all the while making sure to keep our ancilla and input clean, you might not be surprised how large our gate can get."
   ]
  },
  {
   "cell_type": "code",
   "execution_count": null,
   "metadata": {
    "scrolled": false
   },
   "outputs": [],
   "source": [
    "grover.draw(output='mpl')"
   ]
  },
  {
   "cell_type": "markdown",
   "metadata": {},
   "source": [
    "### Problem 2: Solving 1-IN-3-SAT\n",
    "\n",
    "Given:\n",
    "\n",
    "$$ F = (x_0 \\vee \\lnot x_1 \\vee \\lnot x_2) \\wedge (\\lnot x_0 \\vee x_1 \\vee \\lnot x_2) \\wedge (x_0 \\vee x_1 \\vee x_2) $$\n",
    "\n",
    "First, use Grover's algorithm to solve the 1-IN-3-SAT problem for $F$, that is, find an assignment of $x_0$, $x_1$, and $x_2$ that will satisfy the expression $F$, given that only a single term in each expression can be true.\n",
    "\n",
    "Try running the circuit using 1, 2 and 4 steps, and report the probabilities of all outcomes each time. How do the results change when you change the timesteps? Why do they change in that way?"
   ]
  },
  {
   "cell_type": "markdown",
   "metadata": {},
   "source": [
    "[Your answer here]"
   ]
  },
  {
   "cell_type": "markdown",
   "metadata": {},
   "source": [
    "### Problem 3: 6-bit Grover's Algorithm (for EE 521 only)\n",
    "\n",
    "We define eight phone number $ p_1=000,p_1=001,p_3=010, ... p_{8}=111 $ and the names corresponding to the phone numbers are $ n_1=000,n_1=001,n_3=010, ... n_{8}=111 $ respectively. Recall that in Grover’s algorithm, the phone numbers are stored in three qubits and the name are stored in three other qubits. In terms of qubit states, the phone numbers are $ | p_1 \\rangle =| 000\\rangle, | p_2 \\rangle=| 001\\rangle, | p_3 \\rangle=| 010\\rangle, ... | p_{8} \\rangle=| 111\\rangle $ and the corresponding names stored on three other qubits are $ | p_1 \\rangle =| 000\\rangle, | p_2 \\rangle=| 001\\rangle, | p_3 \\rangle=| 010\\rangle, ... | p_{8} \\rangle=| 111\\rangle $. The phone numbers are identical to the names which are stored on three other qubits. Starting out with the state $ | 000000\\rangle=| 000\\rangle| 000\\rangle, $  find the gate operations to reach the following states in the Grover’s algorithm sequentially:\n",
    "\n",
    "(a) $ | init\\rangle=\\frac{1}{\\sqrt{8}} [| 000\\rangle| p_1 \\rangle+| 001\\rangle| p_2 \\rangle+| 010\\rangle| p_3 \\rangle+ ... +| 111\\rangle| p_{8} \\rangle] $  \n",
    "(b) $ \\hat{V}| init\\rangle=-\\frac{1}{\\sqrt{8}} | 110,p_7 \\rangle + \\frac{\\sqrt{7}}{\\sqrt{8}}[\\frac{1}{\\sqrt{7}} (| 000,p_1 \\rangle+| 001,p_2 \\rangle+| 010,p_3 \\rangle + ...)] $  \n",
    "(c) $ \\hat{W}\\hat{V}| init\\rangle=\\frac{5}{4\\sqrt{2}}| 110\\rangle| p_7 \\rangle + \\frac{\\sqrt{7}}{4\\sqrt{2}}[\\frac{1}{\\sqrt{7}} (| 000,p_1 \\rangle+| 001,p_2 \\rangle+| 010,p_3 \\rangle + ...)]$  \n",
    "(d) repeat above operations\n",
    "\n",
    "Implement the above gates in qiskit and confirm that your realization is correct. What is the optimum number of rotations for this search problem in term of operations by $ \\hat{W}\\hat{V}$ ?\n",
    "\n",
    "\n",
    "Hint: You can refer to Lecture note 7.5.2 section \n"
   ]
  },
  {
   "cell_type": "code",
   "execution_count": null,
   "metadata": {},
   "outputs": [],
   "source": []
  },
  {
   "cell_type": "markdown",
   "metadata": {},
   "source": [
    "## Should we alert the press?\n",
    "\n",
    "Quantum algorithms can provide an exponential speedup, compared to any known classical algorithm, for some problems. The problem we investigated here, 1-IN-3-SAT, is an $\\mathcal{NP}$-complete problem, which means if we can efficiently solve it, then we can efficiently solve any $\\mathcal{NP}$ problem (which includes a lot of very important, very interesting problems).\n",
    "\n",
    "We don't know of any classical algorithm that can solve the 1-IN-3-SAT problem in faster than in exponential time ($\\mathcal{O}(K^N)$) where $N$ is the number of variables.\n",
    "\n",
    "Meanwhile, Grover's algorithm lets us search a space of size $N$ samples in on the order of $\\mathcal{O}(\\sqrt N)$ time. This means we can run Grover's algorithm in polynomial time (with respect to $N$).\n",
    "\n",
    "This begs the question: Did we just find an algorithm that can solve an $\\mathcal{NP}$-complete problem in polynomial time? If so, we have to alert the press right away - we just made history!!"
   ]
  },
  {
   "cell_type": "markdown",
   "metadata": {},
   "source": [
    "### Ignore this: Fast, but is it fast enough?\n",
    "\n",
    "Just what kind of speedup did applying Grover's algorithm give us (assuming we ran our circuit on a real quantum computer rather than just a simulator)? Did we find a polynomial time algorithm to solve 1-IN-3-SAT?\n",
    "\n",
    "Hint: Remind yourself what the definitions of $N$ is for each of the running times above, how do they relate?"
   ]
  }
 ],
 "metadata": {
  "kernelspec": {
   "display_name": "Python 3 (ipykernel)",
   "language": "python",
   "name": "python3"
  },
  "language_info": {
   "codemirror_mode": {
    "name": "ipython",
    "version": 3
   },
   "file_extension": ".py",
   "mimetype": "text/x-python",
   "name": "python",
   "nbconvert_exporter": "python",
   "pygments_lexer": "ipython3",
   "version": "3.9.15"
  }
 },
 "nbformat": 4,
 "nbformat_minor": 2
}
